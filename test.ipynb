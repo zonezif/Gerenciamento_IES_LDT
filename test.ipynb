{
 "cells": [
  {
   "cell_type": "code",
   "execution_count": null,
   "metadata": {},
   "outputs": [],
   "source": [
    "from MakeLDT import *\n",
    "NewLDT(\"./\")\n"
   ]
  },
  {
   "cell_type": "code",
   "execution_count": 1,
   "metadata": {},
   "outputs": [],
   "source": [
    "from ReadIES import *\n",
    "ies = IES(\"./teste.IES\")"
   ]
  },
  {
   "cell_type": "code",
   "execution_count": 2,
   "metadata": {},
   "outputs": [
    {
     "name": "stdout",
     "output_type": "stream",
     "text": [
      "1.0\n"
     ]
    }
   ],
   "source": [
    "print (ies.Nlamp())"
   ]
  },
  {
   "cell_type": "code",
   "execution_count": 4,
   "metadata": {},
   "outputs": [],
   "source": [
    "Dados = {\n",
    "    'Fabricante': ies.dic['[MANUFAC]'],\n",
    "    'Luminaria_Cod':ies.dic['[TEST]'] ,\n",
    "    'Data':ies.dic['[TESTDATE]'],\n",
    "    'Luminaria':ies.dic['[LUMINAIRE]'],\n",
    "    'Lampada':ies.dic['[LAMP]'],\n",
    "    'Lampada_Descr':ies.dic['[LAMPCAT]'],\n",
    "    'Teste_Lab':ies.dic['[TESTLAB]'],\n",
    "    'Flash_Area':ies.dic['[FLASHAREA]'],\n",
    "    'Lampada_Num':ies.Nlamp(),\n",
    "    'Fluxo_P_Lamp':ies.Lm(),\n",
    "    'CD_Multiplicador':ies.Fat(), \n",
    "    'Num_Ang_verticais':ies.Nang(),\n",
    "    'Num_Ang_Horizontais':ies.Nah(),\n",
    "    'Ensaio_Tipo':[], \n",
    "    'Unidade_Medida':[],\n",
    "    'Largura':[],\n",
    "    'Comprimento':[],\n",
    "    'Altura':[],\n",
    "    'Potencia':[],\n",
    "    'Angulos_Verticas':ies.AngV(),\n",
    "    'Angulos_horizontais':ies.AngH(),\n",
    "    'Candela_Valores':ies.Cd(),\n",
    "    'Img_ref':[] \n",
    "}\n",
    "\n",
    " "
   ]
  },
  {
   "cell_type": "code",
   "execution_count": 17,
   "metadata": {},
   "outputs": [],
   "source": [
    "Gedr = {\n",
    "     'Reader':{'Nome':[]\n",
    "        },\n",
    "    'Revs':{'Rev0': Dados\n",
    "        },\n",
    "    'Imgs':{'Img0':\n",
    "       'K'}\n",
    "}"
   ]
  },
  {
   "cell_type": "code",
   "execution_count": 3,
   "metadata": {},
   "outputs": [
    {
     "name": "stdout",
     "output_type": "stream",
     "text": [
      "<ReadIES.IES object at 0x000001EB80F5E230>\n",
      "Imagem recuperada com sucesso!\n"
     ]
    }
   ],
   "source": [
    "import pickle\n",
    "from ReadIES import *\n",
    "# Dados de exemplo\n",
    "pessoas = IES(\"./teste.IES\")\n",
    "# Imagem de exemplo (substitua pelo caminho da sua imagem)\n",
    "caminho_imagem = \"./tesst.jpg\"\n",
    "\n",
    "# Função para salvar as informações em um arquivo binário com a imagem\n",
    "def salvar_arquivo_binario_com_imagem(filename, pessoas, imagem):\n",
    "    with open(filename, 'wb') as file:\n",
    "        dados = {'pessoas': pessoas, 'imagem': imagem}\n",
    "        pickle.dump(dados, file)\n",
    "\n",
    "# Função para recuperar informações de um arquivo binário com a imagem\n",
    "def recuperar_arquivo_binario_com_imagem(filename):\n",
    "    with open(filename, 'rb') as file:\n",
    "        dados = pickle.load(file)\n",
    "    return dados['pessoas'], dados['imagem']\n",
    "\n",
    "# Nome do arquivo\n",
    "nome_arquivo = \"exemplo_com_imagem.bin\"\n",
    "\n",
    "# Lendo a imagem em bytes\n",
    "with open(caminho_imagem, 'rb') as img_file:\n",
    "    imagem_bytes = img_file.read()\n",
    "\n",
    "# Salvando as informações (pessoas e imagem) em formato binário\n",
    "salvar_arquivo_binario_com_imagem(nome_arquivo, pessoas, imagem_bytes)\n",
    "\n",
    "# Recuperando as informações (pessoas e imagem) do arquivo binário\n",
    "pessoas_recuperadas, imagem_recuperada = recuperar_arquivo_binario_com_imagem(nome_arquivo)\n",
    "\n",
    "# Salvando a imagem recuperada\n",
    "with open('imagem_recuperada.jpg', 'wb') as img_file:\n",
    "    img_file.write(imagem_recuperada)\n",
    "\n",
    "print(pessoas_recuperadas)\n",
    "print(\"Imagem recuperada com sucesso!\")\n"
   ]
  },
  {
   "cell_type": "code",
   "execution_count": 2,
   "metadata": {},
   "outputs": [],
   "source": [
    "import pickle\n",
    "from PIL import Image\n",
    "from io import BytesIO\n",
    "\n",
    "# ... (código anterior)\n",
    "\n",
    "# Recuperando as informações (pessoas e imagem) do arquivo binário\n",
    "pessoas_recuperadas, imagem_recuperada = recuperar_arquivo_binario_com_imagem(nome_arquivo)\n",
    "\n",
    "# Salvando a imagem recuperada em um arquivo temporário\n",
    "imagem_temporaria = BytesIO(imagem_recuperada)\n",
    "imagem = Image.open(imagem_temporaria)\n",
    "\n",
    "# Mostrando a imagem\n",
    "imagem.show()\n",
    "\n",
    "# Continuação do código...\n"
   ]
  },
  {
   "cell_type": "code",
   "execution_count": 8,
   "metadata": {},
   "outputs": [
    {
     "name": "stdout",
     "output_type": "stream",
     "text": [
      "[{'ID': 'I1', 'Nome': 'João', 'Nascimento': '01/01/1980', 'Pai': 'I2', 'Mãe': 'I3'}, {'ID': 'I2', 'Nome': 'José', 'Nascimento': '15/05/1955'}, {'ID': 'I3', 'Nome': 'Maria', 'Nascimento': '20/10/1960'}, [1, 23, 4, 5, 2]]\n"
     ]
    }
   ],
   "source": [
    "import pickle\n",
    "\n",
    "# Dados de exemplo\n",
    "pessoas = [\n",
    "    {\"ID\": \"I1\", \"Nome\": \"João\", \"Nascimento\": \"01/01/1980\", \"Pai\": \"I2\", \"Mãe\": \"I3\"},\n",
    "    {\"ID\": \"I2\", \"Nome\": \"José\", \"Nascimento\": \"15/05/1955\"},\n",
    "    {\"ID\": \"I3\", \"Nome\": \"Maria\", \"Nascimento\": \"20/10/1960\"},[1,23,4,5,2]\n",
    "]\n",
    "\n",
    "# Função para salvar as informações em um arquivo binário\n",
    "def salvar_arquivo_binario(filename, pessoas):\n",
    "    with open(filename, 'wb') as file:\n",
    "        pickle.dump(pessoas, file)\n",
    "\n",
    "# Função para recuperar informações de um arquivo binário\n",
    "def recuperar_arquivo_binario(filename):\n",
    "    with open(filename, 'rb') as file:\n",
    "        pessoas_recuperadas = pickle.load(file)\n",
    "    return pessoas_recuperadas\n",
    "\n",
    "# Nome do arquivo\n",
    "nome_arquivo = \"exemplo.ged\"\n",
    "\n",
    "# Salvando as informações em formato binário\n",
    "salvar_arquivo_binario(nome_arquivo, pessoas)\n",
    "\n",
    "# Recuperando as informações do arquivo binário\n",
    "pessoas_recuperadas = recuperar_arquivo_binario(nome_arquivo)\n",
    "print(pessoas_recuperadas)\n"
   ]
  },
  {
   "cell_type": "markdown",
   "metadata": {},
   "source": [
    "### Leitura do excel"
   ]
  },
  {
   "cell_type": "code",
   "execution_count": 19,
   "metadata": {},
   "outputs": [
    {
     "name": "stderr",
     "output_type": "stream",
     "text": [
      "c:\\Users\\Lucas Ribeiro Nunes\\AppData\\Local\\Programs\\Python\\Python310\\lib\\site-packages\\openpyxl\\worksheet\\_reader.py:312: UserWarning: Data Validation extension is not supported and will be removed\n",
      "  warn(msg)\n"
     ]
    }
   ],
   "source": [
    "import pandas as pd\n",
    "\n",
    "LumCodigo = 'ZL 2810'\n",
    "\n",
    "# Especifique o caminho do arquivo XLSX que deseja ler\n",
    "caminho_arquivo = './Iluminacao_Zagonel_Caracteristicas_Tecnicas.xlsx'\n",
    "\n",
    "# Especifique o nome da aba que deseja ler ou o índice numérico da aba (começando em 0)\n",
    "nome_aba = 'ZL28'  # ou índice_aba = 0\n",
    "\n",
    "# Use a função `read_excel` do pandas para ler a aba específica\n",
    "dados = pd.read_excel(caminho_arquivo, sheet_name=nome_aba, skiprows=1) # pula a primeira Linha\n",
    "\n",
    "# Obtenha a lista de nomes de colunas\n",
    "colunas = list(dados.columns)\n",
    "\n",
    "# Exiba a lista de nomes de colunas\n",
    "#print(colunas)\n",
    "\n",
    "#print(dados[:])\n",
    "\n",
    "if LumCodigo in colunas:\n",
    "    LumIndex = colunas.index(LumCodigo)\n",
    "\n",
    "dados_produto=dados[colunas[5]]\n"
   ]
  },
  {
   "cell_type": "code",
   "execution_count": 20,
   "metadata": {},
   "outputs": [
    {
     "name": "stdout",
     "output_type": "stream",
     "text": [
      "{'CodSe': 'T802265SMD0011', 'DesSe': '*LAMPADA TUBULAR T8 22W 6500K SMD ZL 2810 90%', 'SitCa': 'Cadastrado', 'Stat': 'Ativo', 'NumRe': nan, 'AlEx': nan, 'Dimen': nan, 'Encai': 'Alumínio extrusado', 'Peso': 'Ø 29,7 X 1.216mm', 'PolSe': 'G13', 'LED': nan, 'Angul': '398g', 'Potên': 'Policarbonato semi-leitoso', 'ClEff': 'LED SMD (Surface Mounted Device)', 'Fluxo': '120°', 'Eficá': '22W', 'FluLED': 'A', 'TempC': '2.750lm ', 'Tensã': '125lm/W ', 'Corre': '3.767lm ', 'Corre2': '6.500K', 'Fator': '100-250Vac | 50-60Hz', 'Disto': '173mA - 127V | 100mA - 220V', 'IRC': nan, 'GrauP': '> 0,96', 'DispP': '< 15%', 'Prote': 80, 'Corre3': 'IP 40', 'ClIs': 'Incorporado no produto', 'MarMo': 'L/N - L', 'TempO': nan, 'ProtI': 'Classe 1', 'VidaL': nan, 'VidaL2': '-30°C à 50°C', 'Ligaç': 'IK 08', 'Garnt': 'L70 | 54.000h', 'DatVa': 'L70 | 180.000h', 'Revis': 'Mesmo lado', 'LenPr': '2 anos', 'WidPr': 'Indeterminado', 'HeiPr': 'REV01', 'LenEm': '1216mm', 'WidEm': '30mm', 'HeiEm': '30mm', 'NoFon': '1216mm'}\n"
     ]
    }
   ],
   "source": [
    "apelidos = {\n",
    "    'CodSe': dados_produto[0],\n",
    "    'DesSe': dados_produto[1],\n",
    "    'SitCa': dados_produto[2],\n",
    "    'Stat': dados_produto[3],\n",
    "    'NumRe': dados_produto[4],\n",
    "    'AlEx': dados_produto[5],\n",
    "    'Dimen': dados_produto[6],\n",
    "    'Encai': dados_produto[7],\n",
    "    'Peso': dados_produto[8],\n",
    "    'PolSe': dados_produto[9],\n",
    "    'LED': dados_produto[10],\n",
    "    'Angul': dados_produto[11],\n",
    "    'Potên': dados_produto[12],\n",
    "    'ClEff': dados_produto[13],\n",
    "    'Fluxo': dados_produto[14],\n",
    "    'Eficá': dados_produto[15],\n",
    "    'FluLED': dados_produto[16],\n",
    "    'TempC': dados_produto[17],\n",
    "    'Tensã': dados_produto[18],\n",
    "    'Corre': dados_produto[19],\n",
    "    'Corre2': dados_produto[20],\n",
    "    'Fator': dados_produto[21],\n",
    "    'Disto': dados_produto[22],\n",
    "    'IRC': dados_produto[23],\n",
    "    'GrauP': dados_produto[24],\n",
    "    'DispP': dados_produto[25],\n",
    "    'Prote': dados_produto[26],\n",
    "    'Corre3': dados_produto[27],\n",
    "    'ClIs': dados_produto[28],\n",
    "    'MarMo': dados_produto[29],\n",
    "    'TempO': dados_produto[30],\n",
    "    'ProtI': dados_produto[31],\n",
    "    'VidaL': dados_produto[32],\n",
    "    'VidaL2': dados_produto[33],\n",
    "    'Ligaç': dados_produto[34],\n",
    "    'Garnt': dados_produto[35],\n",
    "    'DatVa': dados_produto[36],\n",
    "    'Revis': dados_produto[37],\n",
    "    'LenPr': dados_produto[38],\n",
    "    'WidPr': dados_produto[39],\n",
    "    'HeiPr': dados_produto[40],\n",
    "    'LenEm': dados_produto[41],\n",
    "    'WidEm': dados_produto[42],\n",
    "    'HeiEm': dados_produto[43],\n",
    "    'NoFon': dados_produto[44]\n",
    "}\n",
    "print(apelidos)"
   ]
  }
 ],
 "metadata": {
  "kernelspec": {
   "display_name": "Python 3",
   "language": "python",
   "name": "python3"
  },
  "language_info": {
   "codemirror_mode": {
    "name": "ipython",
    "version": 3
   },
   "file_extension": ".py",
   "mimetype": "text/x-python",
   "name": "python",
   "nbconvert_exporter": "python",
   "pygments_lexer": "ipython3",
   "version": "3.10.6"
  },
  "orig_nbformat": 4
 },
 "nbformat": 4,
 "nbformat_minor": 2
}
