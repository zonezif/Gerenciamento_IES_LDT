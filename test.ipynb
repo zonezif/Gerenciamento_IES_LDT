{
 "cells": [
  {
   "cell_type": "code",
   "execution_count": 1,
   "metadata": {},
   "outputs": [],
   "source": [
    "from ReadIES import *\n",
    "ies = IES(\"./teste.IES\")"
   ]
  },
  {
   "cell_type": "code",
   "execution_count": 2,
   "metadata": {},
   "outputs": [
    {
     "name": "stdout",
     "output_type": "stream",
     "text": [
      "1.0\n"
     ]
    }
   ],
   "source": [
    "print (ies.Nlamp())"
   ]
  },
  {
   "cell_type": "code",
   "execution_count": 4,
   "metadata": {},
   "outputs": [],
   "source": [
    "Dados = {\n",
    "    'Fabricante': ies.dic['[MANUFAC]'],\n",
    "    'Luminaria_Cod':ies.dic['[TEST]'] ,\n",
    "    'Data':ies.dic['[TESTDATE]'],\n",
    "    'Luminaria':ies.dic['[LUMINAIRE]'],\n",
    "    'Lampada':ies.dic['[LAMP]'],\n",
    "    'Lampada_Descr':ies.dic['[LAMPCAT]'],\n",
    "    'Teste_Lab':ies.dic['[TESTLAB]'],\n",
    "    'Flash_Area':ies.dic['[FLASHAREA]'],\n",
    "    'Lampada_Num':ies.Nlamp(),\n",
    "    'Fluxo_P_Lamp':ies.Lm(),\n",
    "    'CD_Multiplicador':ies.Fat(), \n",
    "    'Num_Ang_verticais':ies.Nang(),\n",
    "    'Num_Ang_Horizontais':ies.Nah(),\n",
    "    'Ensaio_Tipo':[], \n",
    "    'Unidade_Medida':[],\n",
    "    'Largura':[],\n",
    "    'Comprimento':[],\n",
    "    'Altura':[],\n",
    "    'Potencia':[],\n",
    "    'Angulos_Verticas':ies.AngV(),\n",
    "    'Angulos_horizontais':ies.AngH(),\n",
    "    'Candela_Valores':ies.Cd(),\n",
    "    'Img_ref':[] \n",
    "}\n",
    "\n",
    " "
   ]
  },
  {
   "cell_type": "code",
   "execution_count": 17,
   "metadata": {},
   "outputs": [],
   "source": [
    "Gedr = {\n",
    "     'Reader':{'Nome':[]\n",
    "        },\n",
    "    'Revs':{'Rev0': Dados\n",
    "        },\n",
    "    'Imgs':{'Img0':\n",
    "       'K'}\n",
    "}"
   ]
  },
  {
   "cell_type": "code",
   "execution_count": 3,
   "metadata": {},
   "outputs": [
    {
     "name": "stdout",
     "output_type": "stream",
     "text": [
      "<ReadIES.IES object at 0x000001EB80F5E230>\n",
      "Imagem recuperada com sucesso!\n"
     ]
    }
   ],
   "source": [
    "import pickle\n",
    "from ReadIES import *\n",
    "# Dados de exemplo\n",
    "pessoas = IES(\"./teste.IES\")\n",
    "# Imagem de exemplo (substitua pelo caminho da sua imagem)\n",
    "caminho_imagem = \"./tesst.jpg\"\n",
    "\n",
    "# Função para salvar as informações em um arquivo binário com a imagem\n",
    "def salvar_arquivo_binario_com_imagem(filename, pessoas, imagem):\n",
    "    with open(filename, 'wb') as file:\n",
    "        dados = {'pessoas': pessoas, 'imagem': imagem}\n",
    "        pickle.dump(dados, file)\n",
    "\n",
    "# Função para recuperar informações de um arquivo binário com a imagem\n",
    "def recuperar_arquivo_binario_com_imagem(filename):\n",
    "    with open(filename, 'rb') as file:\n",
    "        dados = pickle.load(file)\n",
    "    return dados['pessoas'], dados['imagem']\n",
    "\n",
    "# Nome do arquivo\n",
    "nome_arquivo = \"exemplo_com_imagem.bin\"\n",
    "\n",
    "# Lendo a imagem em bytes\n",
    "with open(caminho_imagem, 'rb') as img_file:\n",
    "    imagem_bytes = img_file.read()\n",
    "\n",
    "# Salvando as informações (pessoas e imagem) em formato binário\n",
    "salvar_arquivo_binario_com_imagem(nome_arquivo, pessoas, imagem_bytes)\n",
    "\n",
    "# Recuperando as informações (pessoas e imagem) do arquivo binário\n",
    "pessoas_recuperadas, imagem_recuperada = recuperar_arquivo_binario_com_imagem(nome_arquivo)\n",
    "\n",
    "# Salvando a imagem recuperada\n",
    "with open('imagem_recuperada.jpg', 'wb') as img_file:\n",
    "    img_file.write(imagem_recuperada)\n",
    "\n",
    "print(pessoas_recuperadas)\n",
    "print(\"Imagem recuperada com sucesso!\")\n"
   ]
  },
  {
   "cell_type": "code",
   "execution_count": 2,
   "metadata": {},
   "outputs": [],
   "source": [
    "import pickle\n",
    "from PIL import Image\n",
    "from io import BytesIO\n",
    "\n",
    "# ... (código anterior)\n",
    "\n",
    "# Recuperando as informações (pessoas e imagem) do arquivo binário\n",
    "pessoas_recuperadas, imagem_recuperada = recuperar_arquivo_binario_com_imagem(nome_arquivo)\n",
    "\n",
    "# Salvando a imagem recuperada em um arquivo temporário\n",
    "imagem_temporaria = BytesIO(imagem_recuperada)\n",
    "imagem = Image.open(imagem_temporaria)\n",
    "\n",
    "# Mostrando a imagem\n",
    "imagem.show()\n",
    "\n",
    "# Continuação do código...\n"
   ]
  },
  {
   "cell_type": "code",
   "execution_count": 8,
   "metadata": {},
   "outputs": [
    {
     "name": "stdout",
     "output_type": "stream",
     "text": [
      "[{'ID': 'I1', 'Nome': 'João', 'Nascimento': '01/01/1980', 'Pai': 'I2', 'Mãe': 'I3'}, {'ID': 'I2', 'Nome': 'José', 'Nascimento': '15/05/1955'}, {'ID': 'I3', 'Nome': 'Maria', 'Nascimento': '20/10/1960'}, [1, 23, 4, 5, 2]]\n"
     ]
    }
   ],
   "source": [
    "import pickle\n",
    "\n",
    "# Dados de exemplo\n",
    "pessoas = [\n",
    "    {\"ID\": \"I1\", \"Nome\": \"João\", \"Nascimento\": \"01/01/1980\", \"Pai\": \"I2\", \"Mãe\": \"I3\"},\n",
    "    {\"ID\": \"I2\", \"Nome\": \"José\", \"Nascimento\": \"15/05/1955\"},\n",
    "    {\"ID\": \"I3\", \"Nome\": \"Maria\", \"Nascimento\": \"20/10/1960\"},[1,23,4,5,2]\n",
    "]\n",
    "\n",
    "# Função para salvar as informações em um arquivo binário\n",
    "def salvar_arquivo_binario(filename, pessoas):\n",
    "    with open(filename, 'wb') as file:\n",
    "        pickle.dump(pessoas, file)\n",
    "\n",
    "# Função para recuperar informações de um arquivo binário\n",
    "def recuperar_arquivo_binario(filename):\n",
    "    with open(filename, 'rb') as file:\n",
    "        pessoas_recuperadas = pickle.load(file)\n",
    "    return pessoas_recuperadas\n",
    "\n",
    "# Nome do arquivo\n",
    "nome_arquivo = \"exemplo.ged\"\n",
    "\n",
    "# Salvando as informações em formato binário\n",
    "salvar_arquivo_binario(nome_arquivo, pessoas)\n",
    "\n",
    "# Recuperando as informações do arquivo binário\n",
    "pessoas_recuperadas = recuperar_arquivo_binario(nome_arquivo)\n",
    "print(pessoas_recuperadas)\n"
   ]
  },
  {
   "cell_type": "markdown",
   "metadata": {},
   "source": [
    "### Leitura do excel"
   ]
  },
  {
   "cell_type": "code",
   "execution_count": 5,
   "metadata": {},
   "outputs": [
    {
     "name": "stdout",
     "output_type": "stream",
     "text": [
      "['Zag0', 'CÓDIGO ZL (APENAS O ZL)', 'ZL 2805', 'ZL  2807', 'ZL 2809', 'ZL 2810', 'ZL 2815', 'ZL 2813', 'ZL 2804', 'ZL 2889', 'ZL 2886', 'ZL 2887', 'ZL 2890', 'ZL 2891', 'ZL 2892', 'ZL 2893', 'ZL 2894', 'ZL 2895', 'ZL 2897', 'ZL 2898', 'ZL 2899', 'ZL 2881', 'ZL 2879', 'ZL 2878', 'ZL 2877', 'ZL 2876', 'ZL 2874', 'ZL 2896', 'ZL 2883', 'ZL 2884']\n",
      "0                                   T801140SMD0006\n",
      "1     LAMPADA TUBULAR T8 11W 4000K SMD ZL 2807 90%\n",
      "2                                       Cadastrado\n",
      "3                                            Ativo\n",
      "4                                              NaN\n",
      "5                                              NaN\n",
      "6                                              NaN\n",
      "7                               Alumínio extrusado\n",
      "8                                  Ø 29,7 X 604 mm\n",
      "9                                              G13\n",
      "10                                             NaN\n",
      "11                                            225g\n",
      "12                      Policarbonato semi-leitoso\n",
      "13                LED SMD (Surface Mounted Device)\n",
      "14                                            120°\n",
      "15                                             11W\n",
      "16                                               A\n",
      "17                                        1.100lm \n",
      "18                                        100lm/W \n",
      "19                                        1.507lm \n",
      "20                                          4.000K\n",
      "21                            100-250Vac | 50-60Hz\n",
      "22                       87mA - 127V | 50mA - 220V\n",
      "23                                             NaN\n",
      "24                                          > 0,96\n",
      "25                                           < 15%\n",
      "26                                              80\n",
      "27                                           IP 40\n",
      "28                          Incorporado no produto\n",
      "29                                         L/N - L\n",
      "30                                        Classe 1\n",
      "31                                             NaN\n",
      "32                                    -30°C à 50°C\n",
      "33                                           IK 08\n",
      "34                                   L70 | 54.000h\n",
      "35                                  L70 | 180.000h\n",
      "36                                      Mesmo lado\n",
      "37                                          2 anos\n",
      "38                                   Indeterminado\n",
      "39                                           REV01\n",
      "40                                           604mm\n",
      "41                                            30mm\n",
      "42                                            30mm\n",
      "43                                           604mm\n",
      "44                                            30mm\n",
      "45                                             1mm\n",
      "46                                               1\n",
      "47                                             NaN\n",
      "48                                             NaN\n",
      "49                                             NaN\n",
      "50                                             NaN\n",
      "51                                             NaN\n",
      "Name: ZL  2807, dtype: object\n"
     ]
    },
    {
     "name": "stderr",
     "output_type": "stream",
     "text": [
      "c:\\Users\\Lucas Ribeiro Nunes\\AppData\\Local\\Programs\\Python\\Python310\\lib\\site-packages\\openpyxl\\worksheet\\_reader.py:312: UserWarning: Conditional Formatting extension is not supported and will be removed\n",
      "  warn(msg)\n",
      "c:\\Users\\Lucas Ribeiro Nunes\\AppData\\Local\\Programs\\Python\\Python310\\lib\\site-packages\\openpyxl\\worksheet\\_reader.py:312: UserWarning: Data Validation extension is not supported and will be removed\n",
      "  warn(msg)\n"
     ]
    }
   ],
   "source": [
    "import pandas as pd\n",
    "\n",
    "# Especifique o caminho do arquivo XLSX que deseja ler\n",
    "caminho_arquivo = './Iluminacao_Zagonel_Caracteristicas_Tecnicas.xlsx'\n",
    "\n",
    "# Especifique o nome da aba que deseja ler ou o índice numérico da aba (começando em 0)\n",
    "nome_aba = 'ZL28'  # ou índice_aba = 0\n",
    "\n",
    "# Use a função `read_excel` do pandas para ler a aba específica\n",
    "dados = pd.read_excel(caminho_arquivo, sheet_name=nome_aba, skiprows=1) # pula a primeira Linha\n",
    "\n",
    "# Obtenha a lista de nomes de colunas\n",
    "colunas = list(dados.columns)\n",
    "dados.\n",
    "\n",
    "# Exiba a lista de nomes de colunas\n",
    "print(colunas)\n",
    "\n",
    "print(dados[colunas[3]])\n"
   ]
  }
 ],
 "metadata": {
  "kernelspec": {
   "display_name": "Python 3",
   "language": "python",
   "name": "python3"
  },
  "language_info": {
   "codemirror_mode": {
    "name": "ipython",
    "version": 3
   },
   "file_extension": ".py",
   "mimetype": "text/x-python",
   "name": "python",
   "nbconvert_exporter": "python",
   "pygments_lexer": "ipython3",
   "version": "3.10.6"
  },
  "orig_nbformat": 4
 },
 "nbformat": 4,
 "nbformat_minor": 2
}
